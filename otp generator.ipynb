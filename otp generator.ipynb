{
 "cells": [
  {
   "cell_type": "code",
   "execution_count": 1,
   "id": "9a9ac709-0bbd-4460-9153-8da706215195",
   "metadata": {},
   "outputs": [],
   "source": [
    "import random\n",
    "import smtplib\n",
    "from email.mime.text import MIMEText\n",
    "from email.mime.multipart import MIMEMultipart\n"
   ]
  },
  {
   "cell_type": "code",
   "execution_count": 2,
   "id": "3c971d3e-04ef-4ee1-8f1e-91429ece141a",
   "metadata": {
    "scrolled": true
   },
   "outputs": [
    {
     "name": "stdin",
     "output_type": "stream",
     "text": [
      "Enter your email address:  monir505085@gmail.com\n"
     ]
    },
    {
     "name": "stdout",
     "output_type": "stream",
     "text": [
      "OTP has been sent to your email.\n"
     ]
    },
    {
     "name": "stdin",
     "output_type": "stream",
     "text": [
      "Enter the OTP sent to your email:  652441\n"
     ]
    },
    {
     "name": "stdout",
     "output_type": "stream",
     "text": [
      "Access granted. OTP is correct!\n"
     ]
    }
   ],
   "source": [
    "import random\n",
    "import smtplib\n",
    "from email.mime.text import MIMEText\n",
    "from email.mime.multipart import MIMEMultipart\n",
    "\n",
    "# Function to generate a 6-digit OTP\n",
    "def generate_otp():\n",
    "    return str(random.randint(100000, 999999))\n",
    "\n",
    "# Function to send OTP to the user's email address\n",
    "def send_otp_via_email(recipient_email, otp):\n",
    "    sender_email = \"monir505085@gmail.com\"  # Replace with your email address\n",
    "    sender_password = \"cype sxxb wtba hurp\"  # Replace with your email password\n",
    "\n",
    "    subject = \"Your OTP Verification Code\"\n",
    "    body = f\"Your OTP for verification is: {otp}\"\n",
    "\n",
    "    # Setting up the email message\n",
    "    message = MIMEMultipart()\n",
    "    message[\"From\"] = sender_email\n",
    "    message[\"To\"] = recipient_email\n",
    "    message[\"Subject\"] = subject\n",
    "\n",
    "    message.attach(MIMEText(body, \"plain\"))\n",
    "\n",
    "    try:\n",
    "        # Correct SMTP server for Gmail\n",
    "        with smtplib.SMTP(\"smtp.gmail.com\", 587) as server:\n",
    "            server.starttls()\n",
    "            server.login(sender_email, sender_password)\n",
    "            server.sendmail(sender_email, recipient_email, message.as_string())\n",
    "        print(\"OTP has been sent to your email.\")\n",
    "    except Exception as e:\n",
    "        print(\"Failed to send OTP. Please check your email settings.\", str(e))\n",
    "\n",
    "# Function to prompt user for OTP and validate\n",
    "def validate_otp(generated_otp):\n",
    "    attempts = 3\n",
    "    while attempts > 0:\n",
    "        user_otp = input(\"Enter the OTP sent to your email: \")\n",
    "        if user_otp == generated_otp:\n",
    "            print(\"Access granted. OTP is correct!\")\n",
    "            return True\n",
    "        else:\n",
    "            attempts -= 1\n",
    "            print(f\"Incorrect OTP. You have {attempts} attempts left.\")\n",
    "    print(\"Access denied. Too many incorrect attempts.\")\n",
    "    return False\n",
    "\n",
    "if __name__ == \"__main__\":\n",
    "    user_email = input(\"Enter your email address: \")\n",
    "    otp = generate_otp()\n",
    "    send_otp_via_email(user_email, otp)\n",
    "    validate_otp(otp)\n",
    "\n"
   ]
  },
  {
   "cell_type": "code",
   "execution_count": null,
   "id": "c4308c0b-858e-4091-a597-96c9ef9aa5ae",
   "metadata": {},
   "outputs": [],
   "source": []
  }
 ],
 "metadata": {
  "kernelspec": {
   "display_name": "Python 3 (ipykernel)",
   "language": "python",
   "name": "python3"
  },
  "language_info": {
   "codemirror_mode": {
    "name": "ipython",
    "version": 3
   },
   "file_extension": ".py",
   "mimetype": "text/x-python",
   "name": "python",
   "nbconvert_exporter": "python",
   "pygments_lexer": "ipython3",
   "version": "3.12.1"
  }
 },
 "nbformat": 4,
 "nbformat_minor": 5
}
